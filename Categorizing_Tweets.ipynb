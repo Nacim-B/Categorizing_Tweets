{
 "cells": [
  {
   "cell_type": "code",
   "execution_count": 26,
   "id": "b1e3c941",
   "metadata": {},
   "outputs": [],
   "source": [
    "import seaborn as sns\n",
    "import matplotlib.pyplot as plt\n",
    "import numpy as np\n",
    "import pandas as pd"
   ]
  },
  {
   "cell_type": "code",
   "execution_count": 27,
   "id": "32fd7765",
   "metadata": {},
   "outputs": [],
   "source": [
    "data = pd.read_csv('data/train.csv')"
   ]
  },
  {
   "cell_type": "code",
   "execution_count": 28,
   "id": "9fd14c5f",
   "metadata": {},
   "outputs": [
    {
     "data": {
      "text/plain": [
       "(7613, 5)"
      ]
     },
     "execution_count": 28,
     "metadata": {},
     "output_type": "execute_result"
    }
   ],
   "source": [
    "data.shape"
   ]
  },
  {
   "cell_type": "code",
   "execution_count": 29,
   "id": "885fb519",
   "metadata": {},
   "outputs": [
    {
     "data": {
      "text/plain": [
       "0    0.57034\n",
       "1    0.42966\n",
       "Name: target, dtype: float64"
      ]
     },
     "execution_count": 29,
     "metadata": {},
     "output_type": "execute_result"
    }
   ],
   "source": [
    "data['target'].value_counts(normalize=True)"
   ]
  },
  {
   "cell_type": "code",
   "execution_count": 30,
   "id": "57862c8c",
   "metadata": {},
   "outputs": [],
   "source": [
    "data.drop_duplicates(subset=['text'], inplace=True ,keep=False, ignore_index=True)"
   ]
  },
  {
   "cell_type": "code",
   "execution_count": 31,
   "id": "5585211f",
   "metadata": {},
   "outputs": [
    {
     "data": {
      "text/plain": [
       "(7434, 5)"
      ]
     },
     "execution_count": 31,
     "metadata": {},
     "output_type": "execute_result"
    }
   ],
   "source": [
    "data.shape"
   ]
  },
  {
   "cell_type": "code",
   "execution_count": 32,
   "id": "0d85df4b",
   "metadata": {},
   "outputs": [
    {
     "data": {
      "text/plain": [
       "\"on the outside you're ablaze and alive\\nbut you're dead inside\""
      ]
     },
     "execution_count": 32,
     "metadata": {},
     "output_type": "execute_result"
    }
   ],
   "source": [
    "exemple = data.text[40]\n",
    "exemple"
   ]
  },
  {
   "cell_type": "code",
   "execution_count": 33,
   "id": "fd86189a",
   "metadata": {},
   "outputs": [],
   "source": [
    "X = data['text']\n",
    "y = data['target']"
   ]
  },
  {
   "cell_type": "code",
   "execution_count": 39,
   "id": "3418f726",
   "metadata": {},
   "outputs": [],
   "source": [
    "from sklearn.model_selection import train_test_split\n",
    "from sklearn.pipeline import make_pipeline\n",
    "from sklearn.linear_model import LinearRegression"
   ]
  },
  {
   "cell_type": "code",
   "execution_count": 35,
   "id": "cc8c3fd7",
   "metadata": {},
   "outputs": [],
   "source": [
    "seed =42"
   ]
  },
  {
   "cell_type": "code",
   "execution_count": 36,
   "id": "de43e299",
   "metadata": {},
   "outputs": [],
   "source": [
    "X_train, X_test, y_train, y_test = train_test_split(X, y, test_size=0.2, random_state=seed)"
   ]
  },
  {
   "cell_type": "code",
   "execution_count": 37,
   "id": "be2cb0db",
   "metadata": {},
   "outputs": [
    {
     "data": {
      "text/plain": [
       "625     The #IranDeal only covers nuclear activity. Wh...\n",
       "4525    Inundated with employee holiday request paperw...\n",
       "101     'The man who can drive himself further once th...\n",
       "2492           My Chemical Romance ÛÓ Desolation Row #np\n",
       "2020    17 dead as Afghanistan aircraft crashes: An Af...\n",
       "                              ...                        \n",
       "751                   I blew up snapchat for no reason ??\n",
       "3290    VIETNAM WAR PATCH US 71st EVACUATION HOSPITAL ...\n",
       "1600    Catching up on GBBO and omg that girls cake th...\n",
       "5271    @ushiocomics I may be panicking a little I was...\n",
       "2206    Businesses are deluged with invoices. Make you...\n",
       "Name: text, Length: 1487, dtype: object"
      ]
     },
     "execution_count": 37,
     "metadata": {},
     "output_type": "execute_result"
    }
   ],
   "source": [
    "model = make_pipeline"
   ]
  },
  {
   "cell_type": "code",
   "execution_count": null,
   "id": "99fdf923",
   "metadata": {},
   "outputs": [],
   "source": []
  }
 ],
 "metadata": {
  "kernelspec": {
   "display_name": "Python 3 (ipykernel)",
   "language": "python",
   "name": "python3"
  },
  "language_info": {
   "codemirror_mode": {
    "name": "ipython",
    "version": 3
   },
   "file_extension": ".py",
   "mimetype": "text/x-python",
   "name": "python",
   "nbconvert_exporter": "python",
   "pygments_lexer": "ipython3",
   "version": "3.9.16"
  }
 },
 "nbformat": 4,
 "nbformat_minor": 5
}
